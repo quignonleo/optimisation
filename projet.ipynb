{
 "metadata": {
  "language_info": {
   "codemirror_mode": {
    "name": "ipython",
    "version": 3
   },
   "file_extension": ".py",
   "mimetype": "text/x-python",
   "name": "python",
   "nbconvert_exporter": "python",
   "pygments_lexer": "ipython3",
   "version": "3.8.5"
  },
  "orig_nbformat": 2,
  "kernelspec": {
   "name": "python3",
   "display_name": "Python 3.8.5 64-bit ('base': conda)",
   "metadata": {
    "interpreter": {
     "hash": "ecf5722fdaf1897a315d257d89d94520bfcaa453217d5becf09b39e73618b0de"
    }
   }
  }
 },
 "nbformat": 4,
 "nbformat_minor": 2,
 "cells": [
  {
   "source": [
    "$\\textbf{Projet d'optimisation}$\n",
    "\n",
    "Léo Quignon"
   ],
   "cell_type": "markdown",
   "metadata": {}
  },
  {
   "source": [
    "$\\underline{\\textbf{Partie 1}}$"
   ],
   "cell_type": "markdown",
   "metadata": {}
  },
  {
   "source": [
    "Question 1"
   ],
   "cell_type": "markdown",
   "metadata": {}
  },
  {
   "source": [
    "La fonction coût est de la forme $\\left \\| Aq - f  \\right \\|^{2} + \\left \\| r\\bullet q\\bullet \\left | q \\right | - A^{T}p \\right \\|^{2} $ car nous ajoutons un coût dû à la différence entre débits entrant, sortant et interne, plus un terme dû aux pertes de charge"
   ],
   "cell_type": "markdown",
   "metadata": {}
  },
  {
   "source": [
    "Question 2"
   ],
   "cell_type": "markdown",
   "metadata": {}
  },
  {
   "source": [
    "On va utiliser comme fonction à minimiser la fonction coût établie juste au dessus. Les variables seront p, q et f. Nous avons une contrainte dûe aux valeurs imposées pour les pressions aux réservoirs et les flux des demandes   "
   ],
   "cell_type": "markdown",
   "metadata": {}
  },
  {
   "source": [
    "On a donc le problème de minimisation $$\n",
    "\\underset{\\left\\{\\begin{matrix}p_{0} - p_{r}^{0} = 0, ...,p_{m^{r}} - p_{r}^{m^{r}} = 0 \n",
    "\\\\ \n",
    "f_{m^{r}+1} - f_{d}^{0} = 0, ..., f_{m} - f_{d}^{m^{d}} = 0\n",
    "\\\\\n",
    "f \\in \\mathbb{R}^{m}, q \\in \\mathbb{R}^{l}, p \\in \\mathbb{R}^{m}\n",
    "\\end{matrix}\\right.}{min} \\left \\| Aq - f  \\right \\|^{2} + \\left \\| r\\bullet q\\bullet \\left | q \\right | - A^{T}p \\right \\|^{2} $$"
   ],
   "cell_type": "markdown",
   "metadata": {}
  },
  {
   "cell_type": "code",
   "execution_count": null,
   "metadata": {},
   "outputs": [],
   "source": []
  }
 ]
}